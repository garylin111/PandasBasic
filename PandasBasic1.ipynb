{
 "cells": [
  {
   "cell_type": "markdown",
   "metadata": {},
   "source": [
    "# Pandas 基礎練習 1(Pandas Basic 1)\n",
    "## 資料結構\n",
    "`參考學習網址`:\n",
    "1. https://hackmd.io/@wiimax/10-minutes-to-pandas#10%E5%88%86%E9%90%98%E7%9A%84Pandas%E5%85%A5%E9%96%80-%E7%B9%81%E4%B8%AD%E7%89%88\n",
    "2. https://pandas.pydata.org/pandas-docs/stable/user_guide/dsintro.html#dsintro\n",
    "- 2024-10-10"
   ]
  },
  {
   "cell_type": "markdown",
   "metadata": {},
   "source": [
    "Pandas 的兩種資料結構\n",
    "1. Series\n",
    "2. DataFrame\n"
   ]
  },
  {
   "cell_type": "markdown",
   "metadata": {},
   "source": [
    "## Series 資料結構\n",
    "`Series` 是`一維`的資料結構，可以視為一個`數值數組`，但可以包含不同類型的資料。  \n",
    "保存`任何類型`資料的一維數值組合。例如整數、字串、Python 物件等。  \n",
    "創建方式：s = pd.Series(data, index=index)  \n",
    "`data`: 數據，可以是一個`列表、數組、字典`等。  \n",
    "`index`: 索引，是一個軸列表，基本上就是根據data數據容量來分配index數量。"
   ]
  },
  {
   "cell_type": "code",
   "execution_count": 57,
   "metadata": {},
   "outputs": [],
   "source": [
    "# 導入pandas, numpy模組\n",
    "import pandas as pd\n",
    "import numpy as np"
   ]
  },
  {
   "cell_type": "code",
   "execution_count": 59,
   "metadata": {},
   "outputs": [
    {
     "name": "stdout",
     "output_type": "stream",
     "text": [
      "0    [2, 2, 1, 3, 0, 5, 5, 6, 5, 7]\n",
      "1    [7, 4, 1, 6, 3, 4, 4, 9, 4, 5]\n",
      "2    [8, 1, 7, 8, 4, 7, 5, 8, 2, 5]\n",
      "dtype: object\n"
     ]
    }
   ],
   "source": [
    "# 數據以列表呈現\n",
    "# 生成内容爲10以内整數的列表，長度爲10，並且重複3次\n",
    "s = pd.Series([np.random.randint(0, 10, 10) for _ in range(3)])\n",
    "print(s)"
   ]
  },
  {
   "cell_type": "code",
   "execution_count": 63,
   "metadata": {},
   "outputs": [
    {
     "name": "stdout",
     "output_type": "stream",
     "text": [
      "a    1\n",
      "b    2\n",
      "c    3\n",
      "d    4\n",
      "e    5\n",
      "f    6\n",
      "dtype: int64\n",
      "0    1\n",
      "1    2\n",
      "2    3\n",
      "3    4\n",
      "4    5\n",
      "5    6\n",
      "dtype: int64\n"
     ]
    }
   ],
   "source": [
    "# Series用字典寫入\n",
    "s = pd.Series({'a': 1, 'b': 2, 'c': 3, 'd': 4, 'e': 5, 'f': 6})\n",
    "print(s)\n",
    "# 重置index\n",
    "s.index = np.arange(len(s))\n",
    "print(s)"
   ]
  },
  {
   "cell_type": "code",
   "execution_count": 65,
   "metadata": {},
   "outputs": [
    {
     "name": "stdout",
     "output_type": "stream",
     "text": [
      "[1 2 3 4 5 6]\n"
     ]
    }
   ],
   "source": [
    "s.index = ['a', 'b', 'c', 'd', 'e', 'f']\n",
    "values = s.values\n",
    "print(values)"
   ]
  },
  {
   "cell_type": "markdown",
   "metadata": {},
   "source": [
    "## Series 切片\n"
   ]
  },
  {
   "cell_type": "code",
   "execution_count": 92,
   "metadata": {},
   "outputs": [
    {
     "name": "stdout",
     "output_type": "stream",
     "text": [
      "0    2\n",
      "1    1\n",
      "2    4\n",
      "3    9\n",
      "4    3\n",
      "5    4\n",
      "6    7\n",
      "7    7\n",
      "8    9\n",
      "9    9\n",
      "dtype: int32\n",
      "取值第1個數據:\n",
      "1\n",
      "取值前5個數據：\n",
      "0    2\n",
      "1    1\n",
      "2    4\n",
      "3    9\n",
      "4    3\n",
      "dtype: int32\n"
     ]
    }
   ],
   "source": [
    "# 取值\n",
    "s = pd.Series(np.random.randint(0, 10, 10))\n",
    "print(s)\n",
    "dataSingle = s.iloc[1]\n",
    "dataRange = s.iloc[0:5]\n",
    "print(f\"取值第1個數據:\\n{dataSingle}\\n取值前5個數據：\\n{dataRange}\")"
   ]
  },
  {
   "cell_type": "code",
   "execution_count": 93,
   "metadata": {},
   "outputs": [
    {
     "name": "stdout",
     "output_type": "stream",
     "text": [
      "3    9\n",
      "6    7\n",
      "7    7\n",
      "8    9\n",
      "9    9\n",
      "dtype: int32\n",
      "整數索引:\n",
      "b    1\n",
      "c    4\n",
      "d    9\n",
      "dtype: int32\n",
      "字串索引:\n",
      "b    1\n",
      "c    4\n",
      "d    9\n",
      "e    3\n",
      "f    4\n",
      "g    7\n",
      "h    7\n",
      "i    9\n",
      "dtype: int32\n"
     ]
    }
   ],
   "source": [
    "# 判斷\n",
    "d = s[s > s.median()]\n",
    "print(d)\n",
    "# 在更改索引名稱的情況下還是能用整數索引\n",
    "s.index = ['a', 'b', 'c', 'd', 'e', 'f', 'g', 'h', 'i', 'j']\n",
    "intIndex = s.iloc[1:4]\n",
    "strIndex = s['b':'i']\n",
    "print(f\"整數索引:\\n{intIndex}\\n字串索引:\\n{strIndex}\")"
   ]
  },
  {
   "cell_type": "code",
   "execution_count": 101,
   "metadata": {},
   "outputs": [
    {
     "data": {
      "text/plain": [
       "True"
      ]
     },
     "execution_count": 101,
     "metadata": {},
     "output_type": "execute_result"
    }
   ],
   "source": [
    "# 尋找索引是否存在\n",
    "\"b\" in s"
   ]
  },
  {
   "cell_type": "code",
   "execution_count": null,
   "metadata": {},
   "outputs": [],
   "source": []
  }
 ],
 "metadata": {
  "kernelspec": {
   "display_name": "pandas_basic",
   "language": "python",
   "name": "python3"
  },
  "language_info": {
   "codemirror_mode": {
    "name": "ipython",
    "version": 3
   },
   "file_extension": ".py",
   "mimetype": "text/x-python",
   "name": "python",
   "nbconvert_exporter": "python",
   "pygments_lexer": "ipython3",
   "version": "3.12.7"
  }
 },
 "nbformat": 4,
 "nbformat_minor": 2
}
